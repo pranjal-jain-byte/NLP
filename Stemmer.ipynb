{
  "nbformat": 4,
  "nbformat_minor": 0,
  "metadata": {
    "colab": {
      "provenance": [],
      "authorship_tag": "ABX9TyNCrSLLcg/yPKnPckrzoZDY",
      "include_colab_link": true
    },
    "kernelspec": {
      "name": "python3",
      "display_name": "Python 3"
    },
    "language_info": {
      "name": "python"
    }
  },
  "cells": [
    {
      "cell_type": "markdown",
      "metadata": {
        "id": "view-in-github",
        "colab_type": "text"
      },
      "source": [
        "<a href=\"https://colab.research.google.com/github/pranjal-jain-byte/NLP/blob/main/Stemmer.ipynb\" target=\"_parent\"><img src=\"https://colab.research.google.com/assets/colab-badge.svg\" alt=\"Open In Colab\"/></a>"
      ]
    },
    {
      "cell_type": "code",
      "execution_count": 1,
      "metadata": {
        "id": "_sPU76yXu7tR"
      },
      "outputs": [],
      "source": [
        "from nltk.stem import PorterStemmer"
      ]
    },
    {
      "cell_type": "code",
      "source": [
        "ps = PorterStemmer()"
      ],
      "metadata": {
        "id": "UPRDizBYxXzQ"
      },
      "execution_count": 2,
      "outputs": []
    },
    {
      "cell_type": "code",
      "source": [
        "connect_token = ['connecting' , 'connected' , 'connectivity' , 'connect' , 'connects']"
      ],
      "metadata": {
        "id": "IyV0yJykxgfU"
      },
      "execution_count": 3,
      "outputs": []
    },
    {
      "cell_type": "code",
      "source": [
        "for t in connect_token:\n",
        "    print(t, \" : \",ps.stem(t))"
      ],
      "metadata": {
        "colab": {
          "base_uri": "https://localhost:8080/"
        },
        "id": "ZT2OwQ8tyAQA",
        "outputId": "6223bc2b-f58a-4d08-92b7-bd2c5e4f344e"
      },
      "execution_count": 5,
      "outputs": [
        {
          "output_type": "stream",
          "name": "stdout",
          "text": [
            "connecting  :  connect\n",
            "connected  :  connect\n",
            "connectivity  :  connect\n",
            "connect  :  connect\n",
            "connects  :  connect\n"
          ]
        }
      ]
    },
    {
      "cell_type": "code",
      "source": [
        "learn_tokens = ['learned', 'learning', 'learn', 'learns', 'learner', 'learners']"
      ],
      "metadata": {
        "id": "RXkuNVSpyUXy"
      },
      "execution_count": 7,
      "outputs": []
    },
    {
      "cell_type": "code",
      "source": [
        "for t in learn_tokens:\n",
        "    print(t, \" : \",ps.stem(t))"
      ],
      "metadata": {
        "id": "Q5yPHU-gy1x_",
        "outputId": "f424c89f-d89c-49dd-c0dc-e3c36a16332e",
        "colab": {
          "base_uri": "https://localhost:8080/"
        }
      },
      "execution_count": 8,
      "outputs": [
        {
          "output_type": "stream",
          "name": "stdout",
          "text": [
            "learned  :  learn\n",
            "learning  :  learn\n",
            "learn  :  learn\n",
            "learns  :  learn\n",
            "learner  :  learner\n",
            "learners  :  learner\n"
          ]
        }
      ]
    },
    {
      "cell_type": "code",
      "source": [
        "likes_tokens = ['likes', 'better', 'worse']"
      ],
      "metadata": {
        "id": "NWkoiO0czCYO"
      },
      "execution_count": 9,
      "outputs": []
    },
    {
      "cell_type": "code",
      "source": [
        "for t in likes_tokens:\n",
        "    print(t, \" : \",ps.stem(t))"
      ],
      "metadata": {
        "id": "vnlvi7ig09SY",
        "outputId": "0e0f1fa3-720c-47d7-c42a-c3f0697904b7",
        "colab": {
          "base_uri": "https://localhost:8080/"
        }
      },
      "execution_count": 10,
      "outputs": [
        {
          "output_type": "stream",
          "name": "stdout",
          "text": [
            "likes  :  like\n",
            "better  :  better\n",
            "worse  :  wors\n"
          ]
        }
      ]
    },
    {
      "cell_type": "code",
      "source": [],
      "metadata": {
        "id": "5eNJdAxC0_aU"
      },
      "execution_count": null,
      "outputs": []
    }
  ]
}