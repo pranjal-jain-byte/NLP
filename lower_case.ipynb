{
  "nbformat": 4,
  "nbformat_minor": 0,
  "metadata": {
    "colab": {
      "provenance": [],
      "authorship_tag": "ABX9TyPhntRH5+7HonFFNO4O7ewP",
      "include_colab_link": true
    },
    "kernelspec": {
      "name": "python3",
      "display_name": "Python 3"
    },
    "language_info": {
      "name": "python"
    }
  },
  "cells": [
    {
      "cell_type": "markdown",
      "metadata": {
        "id": "view-in-github",
        "colab_type": "text"
      },
      "source": [
        "<a href=\"https://colab.research.google.com/github/pranjal-jain-byte/NLP/blob/main/lower_case.ipynb\" target=\"_parent\"><img src=\"https://colab.research.google.com/assets/colab-badge.svg\" alt=\"Open In Colab\"/></a>"
      ]
    },
    {
      "cell_type": "code",
      "execution_count": 2,
      "metadata": {
        "colab": {
          "base_uri": "https://localhost:8080/"
        },
        "id": "AQlktjRLQ0IS",
        "outputId": "3fd8be1e-ebac-4bcd-875f-a3820dbb055f"
      },
      "outputs": [
        {
          "output_type": "stream",
          "name": "stdout",
          "text": [
            "Her cat name is LUNA\n"
          ]
        }
      ],
      "source": [
        "sentence = \"Her cat name is LUNA\"\n",
        "print(sentence)"
      ]
    },
    {
      "cell_type": "code",
      "source": [
        "lower_sentence = sentence.lower()\n",
        "print(lower_sentence)"
      ],
      "metadata": {
        "colab": {
          "base_uri": "https://localhost:8080/"
        },
        "id": "4xgJ3np5SXDP",
        "outputId": "e464c0c0-c344-464d-bf63-3d2d6c332bf0"
      },
      "execution_count": 3,
      "outputs": [
        {
          "output_type": "stream",
          "name": "stdout",
          "text": [
            "her cat name is luna\n"
          ]
        }
      ]
    },
    {
      "cell_type": "code",
      "source": [
        "sentence_list = ['Could you pass me the TV remote?',\n",
        "                 'It is IMPOSSIBLE to find this hotel',\n",
        "                 'Want to go for dinner on Tuesday?']\n",
        "print(sentence_list)"
      ],
      "metadata": {
        "colab": {
          "base_uri": "https://localhost:8080/"
        },
        "id": "-6gLvUfCSihV",
        "outputId": "41bfcf92-0a38-472c-e826-f582828d2b6d"
      },
      "execution_count": 4,
      "outputs": [
        {
          "output_type": "stream",
          "name": "stdout",
          "text": [
            "['Could you pass me the TV remote?', 'It is IMPOSSIBLE to find this hotel', 'Want to go for dinner on Tuesday?']\n"
          ]
        }
      ]
    },
    {
      "cell_type": "code",
      "source": [
        "lower_sentence_list = [x.lower() for x in sentence_list]\n",
        "print(lower_sentence_list)"
      ],
      "metadata": {
        "colab": {
          "base_uri": "https://localhost:8080/"
        },
        "id": "XZBOpN2qSni9",
        "outputId": "be7a3cce-c681-439f-9be3-d8d0d57d8347"
      },
      "execution_count": 5,
      "outputs": [
        {
          "output_type": "stream",
          "name": "stdout",
          "text": [
            "['could you pass me the tv remote?', 'it is impossible to find this hotel', 'want to go for dinner on tuesday?']\n"
          ]
        }
      ]
    },
    {
      "cell_type": "code",
      "source": [],
      "metadata": {
        "id": "TFiB2S09UKt9"
      },
      "execution_count": null,
      "outputs": []
    }
  ]
}